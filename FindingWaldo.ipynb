{
  "nbformat": 4,
  "nbformat_minor": 0,
  "metadata": {
    "colab": {
      "name": "FindingWaldo.ipynb",
      "provenance": [],
      "collapsed_sections": []
    },
    "kernelspec": {
      "name": "python3",
      "display_name": "Python 3"
    }
  },
  "cells": [
    {
      "cell_type": "markdown",
      "metadata": {
        "id": "A6Cch4rywFTy",
        "colab_type": "text"
      },
      "source": [
        "### **Connecting Notebook to our Google Drive**"
      ]
    },
    {
      "cell_type": "code",
      "metadata": {
        "id": "_h3uI53qrVhW",
        "colab_type": "code",
        "outputId": "222be6a3-25f4-403c-ae80-166fdfd4586a",
        "colab": {
          "base_uri": "https://localhost:8080/",
          "height": 139
        }
      },
      "source": [
        "from google.colab import drive\n",
        " \n",
        "gdrive = drive.mount('/gdrive')\n",
        "\n",
        "#Project Folder\n",
        "%cd /gdrive/'My Drive'/object_detection\n",
        "\n",
        "# When prompted:\n",
        "#   Go to the Link provided\n",
        "#   Login to the Google account having the object_detection folder\n",
        "#   Enter your authorization code"
      ],
      "execution_count": 0,
      "outputs": [
        {
          "output_type": "stream",
          "text": [
            "Go to this URL in a browser: https://accounts.google.com/o/oauth2/auth?client_id=947318989803-6bn6qk8qdgf4n4g3pfee6491hc0brc4i.apps.googleusercontent.com&redirect_uri=urn%3aietf%3awg%3aoauth%3a2.0%3aoob&response_type=code&scope=email%20https%3a%2f%2fwww.googleapis.com%2fauth%2fdocs.test%20https%3a%2f%2fwww.googleapis.com%2fauth%2fdrive%20https%3a%2f%2fwww.googleapis.com%2fauth%2fdrive.photos.readonly%20https%3a%2f%2fwww.googleapis.com%2fauth%2fpeopleapi.readonly\n",
            "\n",
            "Enter your authorization code:\n",
            "··········\n",
            "Mounted at /gdrive\n",
            "/gdrive/My Drive/object_detection\n"
          ],
          "name": "stdout"
        }
      ]
    },
    {
      "cell_type": "markdown",
      "metadata": {
        "id": "nvq9vKxEwTQF",
        "colab_type": "text"
      },
      "source": [
        "### **Seperating Annotations for Training and Testing Data**"
      ]
    },
    {
      "cell_type": "code",
      "metadata": {
        "id": "ktHCQosmrhfs",
        "colab_type": "code",
        "outputId": "e16f9656-f9a2-4b7e-92a1-a416350b7a18",
        "colab": {
          "base_uri": "https://localhost:8080/",
          "height": 68
        }
      },
      "source": [
        "#Two dir for training and testing\n",
        "!mkdir test_labels train_labels\n",
        "\n",
        "# Lists the files inside 'annotations' by their hash value instead\n",
        "# Then, moves the first 15 labels to the testing dir: `test_labels`\n",
        "!ls data/annotations/* | sort -R | head -15 | xargs -I{} mv {} test_labels/\n",
        "print(\"test_labels directory created and labels moved\")\n",
        "print()\n",
        "\n",
        "# Moves the rest of 45 labels to the training dir: `train_labels`\n",
        "!ls data/annotations/* | xargs -I{} mv {} train_labels/\n",
        "print(\"train_labels directory created and labels moved\")"
      ],
      "execution_count": 0,
      "outputs": [
        {
          "output_type": "stream",
          "text": [
            "test_labels directory created and labels moved\n",
            "\n",
            "train_labels directory created and labels moved\n"
          ],
          "name": "stdout"
        }
      ]
    },
    {
      "cell_type": "markdown",
      "metadata": {
        "id": "6Ec6hX4YwpsU",
        "colab_type": "text"
      },
      "source": [
        "### **Importing and Installing Required Packages**"
      ]
    },
    {
      "cell_type": "code",
      "metadata": {
        "id": "ik098tq5sAay",
        "colab_type": "code",
        "colab": {
          "base_uri": "https://localhost:8080/",
          "height": 34
        },
        "outputId": "94235b3d-ec77-4fb8-f036-ad70d4766355"
      },
      "source": [
        "# Required Packages that are not installed in Collab\n",
        "!apt-get install -qq protobuf-compiler python-pil python-lxml python-tk\n",
        "!pip install -qq Cython contextlib2 pillow lxml matplotlib pycocotools\n",
        "\n",
        "# Required Libraries\n",
        "from __future__ import division, print_function, absolute_import\n",
        "\n",
        "import pandas as pd\n",
        "import numpy as np\n",
        "import csv\n",
        "\n",
        "import re\n",
        "import os\n",
        "import io\n",
        "import glob\n",
        "import shutil\n",
        "import urllib.request\n",
        "import tarfile\n",
        "import xml.etree.ElementTree as ET\n",
        "\n",
        "# To make sure tf version used is 1.15.0\n",
        "%tensorflow_version 1.x\n",
        "import tensorflow as tf\n",
        "print(\"TensorFlow Version is \" +  tf.__version__)\n",
        "\n",
        "import cv2 \n",
        "\n",
        "from PIL import Image\n",
        "from collections import namedtuple, OrderedDict\n",
        "\n",
        "from google.colab import files"
      ],
      "execution_count": 2,
      "outputs": [
        {
          "output_type": "stream",
          "text": [
            "TensorFlow Version is 1.15.2\n"
          ],
          "name": "stdout"
        }
      ]
    }
  ]
}